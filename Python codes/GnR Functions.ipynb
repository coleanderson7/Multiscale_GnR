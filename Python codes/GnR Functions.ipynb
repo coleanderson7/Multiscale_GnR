{
 "cells": [
  {
   "cell_type": "code",
   "execution_count": 40,
   "id": "929617ad",
   "metadata": {},
   "outputs": [],
   "source": [
    "import numpy as np\n",
    "import scipy.integrate as integral\n",
    "from scipy import integrate\n",
    "import matplotlib.pyplot as plt"
   ]
  },
  {
   "cell_type": "markdown",
   "id": "4248733b",
   "metadata": {},
   "source": [
    "<h1>Growth Terms</h1>\n",
    "\n",
    "In the next codes, we will calculate $\\Upsilon^{\\alpha}$, $\\Delta \\sigma$, and $\\Delta \\tau$ with\n",
    "\n",
    "\\begin{equation}\n",
    "\\Upsilon^{\\alpha}(\\tau) = 1 + K^{\\alpha}_{\\sigma} \\Delta \\sigma (\\tau) - K^{\\alpha}_{\\tau} \\Delta \\tau_w (\\tau)\\qquad \\text{and}\\qquad \\Delta \\sigma = \\frac{\\tilde{\\sigma}(t)}{\\tilde{\\sigma}_0} - 1\n",
    "\\end{equation}\n",
    "\n",
    "\n",
    "\n",
    "Function `growth_terms(internal_effect, K_Upsilon)` will get a dictionary which has information about normal stress and shear stress and the coefficients used for Upsilon. This function will return $[\\Delta \\sigma, \\Delta \\tau, \\Upsilon]$\n"
   ]
  },
  {
   "cell_type": "code",
   "execution_count": 41,
   "id": "6f6427c4",
   "metadata": {},
   "outputs": [],
   "source": [
    "def growth_terms(internal_effect, K_Upsilon):\n",
    "    \n",
    "    # internal_effect = {\"stress\" : [sigma_h, sigma_curr], \"tau\" : [tau_h, tau_curr]}\n",
    "    # Internal effect is a dictionary composed of stress and shear sress (here we call it tau)\n",
    "    ###### sigma_curr is the current stress and sigma_h is the homeostasis stress\n",
    "    ###### tau_curr is the current shear stress and tau_h is the homeostasis shear stress.\n",
    "    # K_Upsilon is an array with all the constants in Upsilon function\n",
    "    # K_Upsilon = [K_sigma, K_tau]\n",
    "    \n",
    "    \n",
    "    sigma_h     = internal_effect[\"stress\"][0]\n",
    "    sigma_curr  = internal_effect[\"stress\"][-1]\n",
    "    D_sigma     = ( sigma_curr - sigma_h ) / sigma_h\n",
    "    \n",
    "    \n",
    "    tau_h       = internal_effect[\"tau\"][0]\n",
    "    tau_curr    = internal_effect[\"tau\"][-1]\n",
    "    D_tau       = ( tau_curr - tau_h ) / tau_h\n",
    "    \n",
    "    \n",
    "    K_sigma     = K_Upsilon[0]\n",
    "    K_tau       = K_Upsilon[1]\n",
    "    \n",
    "    Upsil       = 1 + K_sigma * D_sigma - K_tau * D_tau\n",
    "    \n",
    "    return [D_sigma, D_tau, Upsil]\n"
   ]
  },
  {
   "cell_type": "markdown",
   "id": "02bc58c4",
   "metadata": {},
   "source": [
    "<h1>Density</h1>\n",
    "\n",
    "The volution of the referential mass density is proposed as\n",
    "\n",
    "\n",
    "\n",
    "\\begin{equation}\n",
    "\\rho^{\\alpha}_{R}(s) = \\int_{-\\infty}^s m^{\\alpha}_R(\\tau) q^{\\alpha}(s,\\tau)d\\tau,\\qquad q^{\\alpha}(s,\\tau) =\\exp(-\\int_{\\tau}^s k^{\\alpha}(t) dt),\\qquad k^{\\alpha}(t) = k_0^{\\alpha} (1 + (\\Delta \\sigma)^2) \\qquad \\text{and}\\qquad m^{\\alpha}_R(\\tau) = m^{\\alpha}_N(\\tau) \\Upsilon^{\\alpha}\n",
    "\\end{equation}"
   ]
  },
  {
   "cell_type": "code",
   "execution_count": 42,
   "id": "5608cdbc",
   "metadata": {},
   "outputs": [],
   "source": [
    "def q(internal_effect, k_q, past_time, current_time):\n",
    "    \n",
    "    # current_time in the integral for q is shown by s\n",
    "    # past_time in the integral for q is shown by tau\n",
    "    \n",
    "    D_sigma = growth_terms(internal_effect, K_Upsilon)[0]\n",
    "    D_tau   = growth_terms(internal_effect, K_Upsilon)[1]\n",
    "    \n",
    "    return np.exp(integral.quad(lambda x: -1*k_q*(D_sigma**2 + 1), past_time, current_time)[0])\n",
    "\n",
    "\n",
    "    # if we assume that k_q is not a function of time, then \n",
    "#     return np.exp(k_q*(D_sigma**2 + 1) * (past_time - current_time))\n",
    "\n",
    "    \n",
    "\n",
    "\n",
    "\n",
    "\n",
    "def referential_density(internal_effect, K_Upsilon, \n",
    "                       k_q, current_time, past_time, time_step):\n",
    "    \n",
    "    \n",
    "    # growth_term is m_R(tau) = m_N (tau) Upsilon\n",
    "    growth_term = m_N * growth_terms(internal_effect, K_Upsilon)[2]\n",
    "    \n",
    "    \n",
    "    time_interval = np.linspace(past_time, current_time, num = time_step)\n",
    "    \n",
    "    \n",
    "    density = np.array([integral.quad(lambda x: growth_term * q(internal_effect, k_q, x, current_time),\n",
    "                            past_time, x\n",
    "                            )[0] for x in time_interval])\n",
    "    \n",
    "    return density[-1]\n",
    "    \n",
    "    "
   ]
  },
  {
   "cell_type": "markdown",
   "id": "4e8fa05f",
   "metadata": {},
   "source": [
    "<h3>Example</h3>\n",
    "\n",
    "In the following example, let\n",
    "\\begin{equation}\n",
    "\\Delta \\sigma = \\Delta \\tau =0 \\longrightarrow\\Upsilon^{\\alpha} = 1 \\qquad k^{\\alpha}(t) = 1\\qquad s = 2 \\qquad m^{\\alpha}_R(\\tau) = 1 \\quad m_0 = 1 \\quad \\text{for}\\quad \\tau\\ge 0\n",
    "\\end{equation}\n",
    "\n",
    "then we have\n",
    "\n",
    "\\begin{equation}\n",
    "q^{\\alpha}(s,\\tau) =e^{(\\tau - s)}\n",
    "\\end{equation}\n",
    "\n",
    "then we will have\n",
    "\\begin{equation}\n",
    "\\rho^{\\alpha}_{R}(s) = \\int_{-\\infty}^s m^{\\alpha}_R(\\tau) e^{(\\tau - s)}d\\tau\n",
    "\\end{equation}\n",
    "\n",
    "and\n",
    "\n",
    "\\begin{equation}\n",
    "\\text{if}\\quad m^{\\alpha}_R(\\tau) = m_0\\quad \\text{then}\\quad \\rho^{\\alpha}_{R}(s) = m_0\\int_{-\\infty}^2 e^{(\\tau - 2)}d\\tau = \\frac{1}{e^2} (e^2 ) = 1\n",
    "\\end{equation}\n"
   ]
  },
  {
   "cell_type": "markdown",
   "id": "fa6b707b",
   "metadata": {},
   "source": [
    "In the next example, we show how to update stress $\\sigma$ and shear stress $\\tau$ in the code in the dictionary called `internal_effect`."
   ]
  },
  {
   "cell_type": "code",
   "execution_count": 43,
   "id": "49e9b9c4",
   "metadata": {},
   "outputs": [
    {
     "data": {
      "image/png": "[encoded data removed]",
      "text/plain": [
       "<Figure size 640x480 with 1 Axes>"
      ]
     },
     "metadata": {},
     "output_type": "display_data"
    }
   ],
   "source": [
    "# internal_effect = {\"stress\" : [sigma_h, sigma_curr], \"tau\" : [tau_h, tau_curr]}\n",
    "internal_effect = {\"stress\" : [1], \"tau\" : [1]}\n",
    "\n",
    "# K_Upsilon = [K_sigma, K_tau]\n",
    "K_Upsilon = [1, 1]\n",
    "\n",
    "k_q = 1\n",
    "m_N = 1\n",
    "current_time = 500\n",
    "past_time = 0\n",
    "time_step = 100\n",
    "\n",
    "density_time =[]\n",
    "\n",
    "time_range   = np.linspace(past_time, current_time, num=time_step)\n",
    "stress_range = np.linspace(1, 5, num=time_step)\n",
    "tau_range    = np.linspace(1, 5, num=time_step)\n",
    "\n",
    "for time, stress, tau in zip(time_range, stress_range, tau_range):\n",
    "    \n",
    "    internal_effect[\"stress\"].append(stress)\n",
    "    internal_effect[\"tau\"].append(tau)\n",
    "\n",
    "    d = referential_density(internal_effect, K_Upsilon, \n",
    "                       k_q, time, past_time, time_step)\n",
    "    density_time.append(d)\n",
    "\n",
    "\n",
    "\n",
    "plt.plot(time_range, density_time, \".\")\n",
    "plt.show()\n"
   ]
  },
  {
   "cell_type": "markdown",
   "id": "be3e339b",
   "metadata": {},
   "source": [
    "<h1>Calculating the stress</h1>\n",
    "\n",
    "There are two types of stress tensors that we need to calculate.\n",
    "\n",
    "First one is the stress that different constitutents feel and it is calculated by using changes in the pressure ($P$) and flow ($Q$) in the artery. By using changes in the pressure and the flow, we find changes in the geometry of the artery as it wants to go back to its homestasis state. Also we use this stress to find deviation from homeostasis stress in the equation for densities.\n",
    "\n",
    "Second one is the the stress in the TEVG.  To calculate this stress we use principal stretches due to changes in the geometry of the artery. \n",
    "\n",
    "Assume that we model the structures as Neo-Hookean materials, then if we show the first Piola Kirchhoff by $\\textbf{P}$ and Cauchy stress tensor by $\\textbf{T}$, we have\n",
    "\n",
    "\\begin{equation}\n",
    "W=\\frac{c}{2}(\\textbf{F} \\cdot \\textbf{F} - 3) \\longrightarrow \\textbf{P} = c \\textbf{F} - q J \\textbf{F}^{-T} \\qquad\\text{and}\\qquad \\textbf{T} = J^{-1} \\textbf{P} \\textbf{F}^{T} \\longrightarrow \\textbf{T} = J^{-1} c \\textbf{B} -q \\textbf{I}\n",
    "\\end{equation}\n",
    "where q is Lagrange multiplier to enforce incompressibility which must be calculated by using balance law and the boundary conditions. Also\n",
    "\\begin{equation}\n",
    "\\textbf{B} = \\sum_i^3 \\lambda_i^2 \\textbf{u}_i\\otimes \\textbf{u}_i\\qquad \\text{where } \\lambda_i \\text{ are principle stretches}\n",
    "\\end{equation}\n",
    "also due to incompressibility, we have\n",
    "\\begin{equation}\n",
    "\\lambda_z = \\frac{1}{\\lambda_r \\lambda_{\\theta}}\\qquad \\text{and}\\qquad J = 1\n",
    "\\end{equation}\n",
    "\n",
    "To calculate the principle stretches, first, we use the following equations to find homeostasis normal and shear stresses\n",
    "\n",
    "\\begin{equation}\n",
    "\\sigma = \\frac{Pr}{t}\\qquad \\qquad \\tau = \\frac{4\\mu Q}{\\pi r^3}\n",
    "\\end{equation}\n",
    "\n",
    "and if we chage the pressure and flow as\n",
    "\\begin{equation}\n",
    "P_1 \\to \\gamma P_0 \\qquad \\text{and}\\qquad Q_1 \\to \\epsilon Q_0\n",
    "\\end{equation}\n",
    "\n",
    "then the thickness and the radius change as\n",
    "\n",
    "\\begin{equation}\n",
    "t_1 \\to \\gamma (\\varepsilon^{\\frac{1}{3}}) t_0\\qquad \\text{and}\\qquad r_1 = (\\varepsilon^{\\frac{1}{3}}) r_0\n",
    "\\end{equation}\n",
    "\n",
    "which can be used to calculate the following stretches\n",
    "\n",
    "\\begin{equation}\n",
    "\\lambda_{\\tau} = \n",
    "\\end{equation}\n",
    "\n"
   ]
  },
  {
   "cell_type": "code",
   "execution_count": 44,
   "id": "b16ebfed",
   "metadata": {},
   "outputs": [],
   "source": [
    "def update_geometry(geom, pressure_flow):\n",
    "    \n",
    "    # geom = {\"thickness\": [t_h], \"radius\": [r_h]}\n",
    "    # pressure_flow = {\"pressure\": [pressure_h, pressure_curr], \"flow\": [flow_h, flow_curr]}\n",
    "    \n",
    "    \n",
    "    \n",
    "    if len(pressure_flow[\"pressure\"]) == 1:\n",
    "        gamma = 1\n",
    "    else:\n",
    "        P_h     = pressure_flow[\"pressure\"][0]\n",
    "        P_curr  = pressure_flow[\"pressure\"][-1]\n",
    "        gamma   = (P_curr - P_h) / P_h\n",
    "\n",
    "    \n",
    "    \n",
    "    if len(pressure_flow[\"flow\"]) == 1:\n",
    "        epsilon = 1\n",
    "    else:\n",
    "        Q_h     = pressure_flow[\"flow\"][0]\n",
    "        Q_curr  = pressure_flow[\"flow\"][-1]\n",
    "        epsilon = (Q_curr - Q_h) / Q_h\n",
    "    \n",
    "    geom[\"thickness\"].append(geom[\"thickness\"][0] * gamma * epsilon**(1/3))\n",
    "    geom[\"radius\"].append(geom[\"radius\"][0] * epsilon**(1/3))\n",
    "    \n",
    "    return geom"
   ]
  },
  {
   "cell_type": "markdown",
   "id": "1fee2e35",
   "metadata": {},
   "source": [
    "<h2>Example</h2>"
   ]
  },
  {
   "cell_type": "code",
   "execution_count": 45,
   "id": "e04df3fe",
   "metadata": {},
   "outputs": [
    {
     "data": {
      "image/png": "[encoded data removed]",
      "text/plain": [
       "<Figure size 640x480 with 1 Axes>"
      ]
     },
     "metadata": {},
     "output_type": "display_data"
    }
   ],
   "source": [
    "geom = {\"thickness\": [1], \"radius\": [2]}\n",
    "pressure_flow = {\"pressure\": [1], \"flow\": [1]}\n",
    "\n",
    "step = 200\n",
    "\n",
    "pressure_range = np.linspace(1, 2, num=step)\n",
    "flow_range     = np.linspace(2, 5, num=step)\n",
    "\n",
    "radius = [2]\n",
    "thickness = [1]\n",
    "\n",
    "for pressure, flow in zip(pressure_range, flow_range):\n",
    "    \n",
    "    pressure_flow[\"pressure\"].append(pressure)\n",
    "    pressure_flow[\"flow\"].append(flow)\n",
    "    \n",
    "\n",
    "    radius.append(update_geometry(geom, pressure_flow)[\"radius\"][-1])\n",
    "    thickness.append(update_geometry(geom, pressure_flow)[\"thickness\"][-1])\n",
    "    \n",
    "    \n",
    "\n",
    "plt.plot(radius[1:], np.linspace(1, step , num= step ), '.')\n",
    "plt.show()"
   ]
  }
 ],
 "metadata": {
  "kernelspec": {
   "display_name": "Python 3 (ipykernel)",
   "language": "python",
   "name": "python3"
  },
  "language_info": {
   "codemirror_mode": {
    "name": "ipython",
    "version": 3
   },
   "file_extension": ".py",
   "mimetype": "text/x-python",
   "name": "python",
   "nbconvert_exporter": "python",
   "pygments_lexer": "ipython3",
   "version": "3.10.9"
  }
 },
 "nbformat": 4,
 "nbformat_minor": 5
}
